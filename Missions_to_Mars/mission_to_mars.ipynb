{
 "cells": [
  {
   "cell_type": "code",
   "execution_count": 1,
   "id": "effb5dfd",
   "metadata": {},
   "outputs": [],
   "source": [
    "#Importing Dependencies.\n",
    "import pandas as pd\n",
    "import requests\n",
    "from bs4 import BeautifulSoup as bs\n",
    "import pymongo\n",
    "from splinter import Browser\n",
    "import pandas as pd\n",
    "from time import sleep"
   ]
  },
  {
   "cell_type": "code",
   "execution_count": 2,
   "id": "e7e68832",
   "metadata": {},
   "outputs": [],
   "source": [
    "#Assign URL For the Page to be scraped.\n",
    "url = \"https://redplanetscience.com\""
   ]
  },
  {
   "cell_type": "code",
   "execution_count": 3,
   "id": "b4bb4442",
   "metadata": {},
   "outputs": [],
   "source": [
    "# Retrieve page with the requests module\n",
    "response = requests.get(url)"
   ]
  },
  {
   "cell_type": "code",
   "execution_count": 4,
   "id": "002ed1d6",
   "metadata": {},
   "outputs": [
    {
     "data": {
      "text/plain": [
       "'<!DOCTYPE html>\\r\\n<html>\\r\\n   <head>\\r\\n      <meta charset=\"utf-8\">\\r\\n      <meta name=\"viewport\" content=\"width=device-width, initial-scale=1\">\\r\\n      <link href=\"https://cdn.jsdelivr.net/npm/bootstrap@5.0.0-beta1/dist/css/bootstrap.min.css\" rel=\"stylesheet\" integrity=\"sha384-giJF6kkoqNQ00vy+HMDP7azOuL0xtbfIcaT9wjKHr8RbDVddVHyTfAAsrekwKmP1\" crossorigin=\"anonymous\">\\r\\n      <link rel=\"stylesheet\" type=\"text/css\" href=\"css/font.css\">\\r\\n      <link rel=\"stylesheet\" type=\"text/css\" href=\"css/app.css\">\\r\\n      <link rel=\"stylesheet\" href=\"https://pro.fontawesome.com/releases/v5.10.0/css/all.css\" integrity=\"sha384-AYmEC3Yw5cVb3ZcuHtOA93w35dYTsvhLPVnYs9eStHfGJvOvKxVfELGroGkvsg+p\" crossorigin=\"anonymous\"/>\\r\\n      <title>News - Mars Exploration Program</title>\\r\\n   </head>\\r\\n   <body>\\r\\n      <div class=\"col-md-12\">\\r\\n      <div class=\"row\">\\r\\n      <nav class=\"navbar navbar-expand-lg navbar-light fixed-top\">\\r\\n         <div class=\"container-fluid\">\\r\\n            <a class=\"navbar-brand\" href=\"#\"> \\r\\n            <img src=\"image/nasa.png\" width=\"80\"><span class=\"logo\">MARS Planet Science</span>\\r\\n            <span class=\"logo1\">Exploration Program</span>\\r\\n            </a>\\r\\n            <button class=\"navbar-toggler\" type=\"button\" data-bs-toggle=\"collapse\" data-bs-target=\"#navbarNav\" aria-controls=\"navbarNav\" aria-expanded=\"false\" aria-label=\"Toggle navigation\">\\r\\n            <span class=\"navbar-toggler-icon\"></span>\\r\\n            </button>\\r\\n            <div class=\"collapse navbar-collapse justify-content-end\" id=\"navbarNav\">\\r\\n               <ul class=\"navbar-nav\">\\r\\n                  <li class=\"nav-item\">\\r\\n                     <a class=\"nav-link active\" aria-current=\"page\" href=\"#\">The Red Planet</a>\\r\\n                  </li>\\r\\n                  <li class=\"nav-item\">\\r\\n                     <a class=\"nav-link\" href=\"#\">The Program</a>\\r\\n                  </li>\\r\\n                  <li class=\"nav-item\">\\r\\n                     <a class=\"nav-link\" href=\"#\">News & Events</a>\\r\\n                  </li>\\r\\n                  <li class=\"nav-item\">\\r\\n                     <a class=\"nav-link\" href=\"#\">Multimedia</a>\\r\\n                  </li>\\r\\n                  <li class=\"nav-item\">\\r\\n                     <a class=\"nav-link\" href=\"#\">Missions</a>\\r\\n                  </li>\\r\\n                  <li class=\"nav-item\">\\r\\n                     <a class=\"nav-link\" href=\"#\">More</a>\\r\\n                  </li>\\r\\n                  <li class=\"nav-item nav_search\">\\r\\n                     <a class=\"nav-link \" href=\"#\"></a>\\r\\n                  </li>\\r\\n               </ul>\\r\\n            </div>\\r\\n         </div>\\r\\n      </nav>\\r\\n      <section class=\"search\">\\r\\n         <div class=\"container\">\\r\\n            <h1>News</h1>\\r\\n            <div class=\"col-md-12 filter\">\\r\\n               <div class=\"row\">\\r\\n                  <div class=\"col-md-3 search_binder\">\\r\\n                     <input type=\"text\" name=\"search\" class=\"search_field\">\\r\\n                     <input type=\"text\" name=\"search\" class=\"search_submit\">\\r\\n                  </div>\\r\\n                  <div class=\"col-md-3\">\\r\\n                     <select id=\"year\" class=\"form-select \" aria-label=\"Default select example\">\\r\\n                        <option selected>Latest</option>\\r\\n\\r\\n                     </select>\\r\\n                  </div>\\r\\n                  <div class=\"col-md-3\">\\r\\n                     <select id=\"cat\" class=\"form-select \" aria-label=\"Default select example\">\\r\\n                        <option selected>All Categories</option>\\r\\n\\r\\n                     </select>\\r\\n                  </div>\\r\\n                  <div class=\"col-md-3\">\\t\\t\\t\\t\\t\\t\\r\\n                  </div>\\r\\n               </div>\\r\\n            </div>\\r\\n         </div>\\r\\n      </section>\\r\\n      <section class=\"image_and_description_container\">\\r\\n         <div id=\"news\" class=\"container \">\\r\\n\\r\\n         </div>\\r\\n         <hr class=\"container\" style=\"margin: 25px auto;width: 83%;\">\\r\\n         <button id=\"more\" class=\"btn disable\" onclick=\"populateContent()\">More</button>\\r\\n      </section>\\r\\n      <section class=\"last_news\">\\r\\n         <div class=\"container\">\\r\\n            <div class=\"row\">\\r\\n               <div class=\"col-12\">\\r\\n                  <h2>You Might Also Like</h2>\\r\\n               </div>\\r\\n               <!--  <a class=\" prev\" href=\"#carouselExampleIndicators2\" role=\"button\" data-slide=\"prev\">\\r\\n                  <i class=\"fas fa-angle-left\"></i>\\r\\n                  </a>\\r\\n                  <a class=\" next\" href=\"#carouselExampleIndicators2\" role=\"button\" data-slide=\"next\">\\r\\n                  <i class=\"fas fa-angle-right\"></i>\\r\\n                  </a> -->\\r\\n               <div class=\"col-12\">\\r\\n                  <div id=\"carouselExampleIndicators2\" class=\"carousel slide\" data-ride=\"carousel\">\\r\\n                     <div class=\"carousel-inner\">\\r\\n                        <div class=\"carousel-item active\">\\r\\n                           <div class=\"row\">\\r\\n                              <div class=\"col-md-4 mb-3\">\\r\\n                                 <div class=\"card\">\\r\\n                                    <img class=\"img-fluid\" alt=\"100%x280\" src=\"https://mars.nasa.gov/system/news_items/main_images/8716_PIA23499-16.jpg\">\\r\\n                                    <div class=\"card-body\">\\r\\n                                       <p class=\"card-text\">NASA to Broadcast Mars 2020 Perseverance Launch, Prelaunch Activities</p>\\r\\n                                    </div>\\r\\n                                 </div>\\r\\n                              </div>\\r\\n                              <div class=\"col-md-4 mb-3\">\\r\\n                                 <div class=\"card\">\\r\\n                                    <img class=\"img-fluid\" alt=\"100%x280\" src=\"https://mars.nasa.gov/system/news_items/main_images/8716_PIA23499-16.jpg\">\\r\\n                                    <div class=\"card-body\">\\r\\n                                       <p class=\"card-text\">The Launch Is Approaching for NASA\\'s Next Mars Rover, Perseverance</p>\\r\\n                                    </div>\\r\\n                                 </div>\\r\\n                              </div>\\r\\n                              <div class=\"col-md-4 mb-3\">\\r\\n                                 <div class=\"card\">\\r\\n                                    <img class=\"img-fluid\" alt=\"100%x280\" src=\"https://mars.nasa.gov/system/news_items/main_images/8692_PIA23920-web.jpg\">\\r\\n                                    <div class=\"card-body\">\\r\\n                                       <p class=\"card-text\">NASA to Hold Mars 2020 Perseverance Rover Launch Briefing</p>\\r\\n                                    </div>\\r\\n                                 </div>\\r\\n                              </div>\\r\\n                           </div>\\r\\n                        </div>\\r\\n                        <div class=\"carousel-item\">\\r\\n                           <div class=\"row\">\\r\\n                              <div class=\"col-md-4 mb-3\">\\r\\n                                 <div class=\"card\">\\r\\n                                    <img class=\"img-fluid\" alt=\"100%x280\" src=\"https://images.unsplash.com/photo-1532771098148-525cefe10c23?ixlib=rb-0.3.5&amp;q=80&amp;fm=jpg&amp;crop=entropy&amp;cs=tinysrgb&amp;w=1080&amp;fit=max&amp;ixid=eyJhcHBfaWQiOjMyMDc0fQ&amp;s=3f317c1f7a16116dec454fbc267dd8e4\">\\r\\n                                    <div class=\"card-body\">\\r\\n                                       <p class=\"card-text\">With supporting text below as a natural lead-in to additional content.</p>\\r\\n                                    </div>\\r\\n                                 </div>\\r\\n                              </div>\\r\\n                              <div class=\"col-md-4 mb-3\">\\r\\n                                 <div class=\"card\">\\r\\n                                    <img class=\"img-fluid\" alt=\"100%x280\" src=\"https://images.unsplash.com/photo-1532715088550-62f09305f765?ixlib=rb-0.3.5&amp;q=80&amp;fm=jpg&amp;crop=entropy&amp;cs=tinysrgb&amp;w=1080&amp;fit=max&amp;ixid=eyJhcHBfaWQiOjMyMDc0fQ&amp;s=ebadb044b374504ef8e81bdec4d0e840\">\\r\\n                                    <div class=\"card-body\">\\r\\n                                       <p class=\"card-text\">With supporting text below as a natural lead-in to additional content.</p>\\r\\n                                    </div>\\r\\n                                 </div>\\r\\n                              </div>\\r\\n                              <div class=\"col-md-4 mb-3\">\\r\\n                                 <div class=\"card\">\\r\\n                                    <img class=\"img-fluid\" alt=\"100%x280\" src=\"https://images.unsplash.com/photo-1506197603052-3cc9c3a201bd?ixlib=rb-0.3.5&amp;q=80&amp;fm=jpg&amp;crop=entropy&amp;cs=tinysrgb&amp;w=1080&amp;fit=max&amp;ixid=eyJhcHBfaWQiOjMyMDc0fQ&amp;s=0754ab085804ae8a3b562548e6b4aa2e\">\\r\\n                                    <div class=\"card-body\">\\r\\n                                       <p class=\"card-text\">With supporting text below as a natural lead-in to additional content.</p>\\r\\n                                    </div>\\r\\n                                 </div>\\r\\n                              </div>\\r\\n                           </div>\\r\\n                        </div>\\r\\n                        <div class=\"carousel-item\">\\r\\n                           <div class=\"row\">\\r\\n                              <div class=\"col-md-4 mb-3\">\\r\\n                                 <div class=\"card\">\\r\\n                                    <img class=\"img-fluid\" alt=\"100%x280\" src=\"https://images.unsplash.com/photo-1507525428034-b723cf961d3e?ixlib=rb-0.3.5&amp;q=80&amp;fm=jpg&amp;crop=entropy&amp;cs=tinysrgb&amp;w=1080&amp;fit=max&amp;ixid=eyJhcHBfaWQiOjMyMDc0fQ&amp;s=ee8417f0ea2a50d53a12665820b54e23\">\\r\\n                                    <div class=\"card-body\">\\r\\n                                       <p class=\"card-text\">With supporting text below as a natural lead-in to additional content.</p>\\r\\n                                    </div>\\r\\n                                 </div>\\r\\n                              </div>\\r\\n                              <div class=\"col-md-4 mb-3\">\\r\\n                                 <div class=\"card\">\\r\\n                                    <img class=\"img-fluid\" alt=\"100%x280\" src=\"https://images.unsplash.com/photo-1532777946373-b6783242f211?ixlib=rb-0.3.5&amp;q=80&amp;fm=jpg&amp;crop=entropy&amp;cs=tinysrgb&amp;w=1080&amp;fit=max&amp;ixid=eyJhcHBfaWQiOjMyMDc0fQ&amp;s=8ac55cf3a68785643998730839663129\">\\r\\n                                    <div class=\"card-body\">\\r\\n                                       <p class=\"card-text\">With supporting text below as a natural lead-in to additional content.</p>\\r\\n                                    </div>\\r\\n                                 </div>\\r\\n                              </div>\\r\\n                              <div class=\"col-md-4 mb-3\">\\r\\n                                 <div class=\"card\">\\r\\n                                    <img class=\"img-fluid\" alt=\"100%x280\" src=\"https://images.unsplash.com/photo-1532763303805-529d595877c5?ixlib=rb-0.3.5&amp;q=80&amp;fm=jpg&amp;crop=entropy&amp;cs=tinysrgb&amp;w=1080&amp;fit=max&amp;ixid=eyJhcHBfaWQiOjMyMDc0fQ&amp;s=5ee4fd5d19b40f93eadb21871757eda6\">\\r\\n                                    <div class=\"card-body\">\\r\\n                                       <p class=\"card-text\">With supporting text below as a natural lead-in to additional content.</p>\\r\\n                                    </div>\\r\\n                                 </div>\\r\\n                              </div>\\r\\n                           </div>\\r\\n                        </div>\\r\\n                     </div>\\r\\n                  </div>\\r\\n               </div>\\r\\n            </div>\\r\\n         </div>\\r\\n      </section>\\r\\n      <section class=\"footer\">\\r\\n         <div class=\"container\">\\r\\n            <div class=\"col-md-12\">\\r\\n               <div class=\"row\">\\r\\n                  <div class=\"col-md-3\">\\r\\n                     <h5>The Red Planet</h5>\\r\\n                     <ul>\\r\\n                        <li>Dashboard</li>\\r\\n                        <li>Science Goals</li>\\r\\n                        <li>The Planet</li>\\r\\n                     </ul>\\r\\n                  </div>\\r\\n                  <div class=\"col-md-3\">\\r\\n                     <h5>The Program</h5>\\r\\n                     <ul>\\r\\n                        <li>Mission Statement</li>\\r\\n                        <li>About the Program</li>\\r\\n                        <li>Organization Why Mars?</li>\\r\\n                     </ul>\\r\\n                  </div>\\r\\n                  <div class=\"col-md-3\">\\r\\n                     <h5>Multimedia</h5>\\r\\n                     <ul>\\r\\n                        <li>Images</li>\\r\\n                        <li>Videos</li>\\r\\n                        <li>More Resources</li>\\r\\n                     </ul>\\r\\n                  </div>\\r\\n                  <div class=\"col-md-3\">\\r\\n                     <h5>Missions</h5>\\r\\n                     <ul>\\r\\n                        <li>Past</li>\\r\\n                        <li>Present</li>\\r\\n                        <li>Future</li>\\r\\n                     </ul>\\r\\n                  </div>\\r\\n               </div>\\r\\n            </div>\\r\\n         </div>\\r\\n      </section>\\r\\n      <script type=\"text/javascript\" src=\"https://code.jquery.com/jquery-1.12.4.min.js\"></script>\\r\\n      <script src=\"https://cdn.jsdelivr.net/npm/@popperjs/core@2.5.4/dist/umd/popper.min.js\" ></script>\\r\\n      <script src=\"https://cdn.jsdelivr.net/npm/bootstrap@5.0.0-beta1/dist/js/bootstrap.min.js\" ></script>\\r\\n      <script src=\"js/app.js\" ></script>\\r\\n   </body>\\r\\n</html>'"
      ]
     },
     "execution_count": 4,
     "metadata": {},
     "output_type": "execute_result"
    }
   ],
   "source": [
    "#Print response text\n",
    "response.text"
   ]
  },
  {
   "cell_type": "code",
   "execution_count": 5,
   "id": "a2bebf7a",
   "metadata": {},
   "outputs": [],
   "source": [
    "# Create BeautifulSoup object; parse with 'html.parser'\n",
    "soup = bs(response.text, 'html.parser')"
   ]
  },
  {
   "cell_type": "code",
   "execution_count": 6,
   "id": "d0871565",
   "metadata": {},
   "outputs": [
    {
     "name": "stdout",
     "output_type": "stream",
     "text": [
      "<!DOCTYPE html>\n",
      "<html>\n",
      " <head>\n",
      "  <meta charset=\"utf-8\"/>\n",
      "  <meta content=\"width=device-width, initial-scale=1\" name=\"viewport\"/>\n",
      "  <link crossorigin=\"anonymous\" href=\"https://cdn.jsdelivr.net/npm/bootstrap@5.0.0-beta1/dist/css/bootstrap.min.css\" integrity=\"sha384-giJF6kkoqNQ00vy+HMDP7azOuL0xtbfIcaT9wjKHr8RbDVddVHyTfAAsrekwKmP1\" rel=\"stylesheet\"/>\n",
      "  <link href=\"css/font.css\" rel=\"stylesheet\" type=\"text/css\"/>\n",
      "  <link href=\"css/app.css\" rel=\"stylesheet\" type=\"text/css\"/>\n",
      "  <link crossorigin=\"anonymous\" href=\"https://pro.fontawesome.com/releases/v5.10.0/css/all.css\" integrity=\"sha384-AYmEC3Yw5cVb3ZcuHtOA93w35dYTsvhLPVnYs9eStHfGJvOvKxVfELGroGkvsg+p\" rel=\"stylesheet\">\n",
      "   <title>\n",
      "    News - Mars Exploration Program\n",
      "   </title>\n",
      "  </link>\n",
      " </head>\n",
      " <body>\n",
      "  <div class=\"col-md-12\">\n",
      "   <div class=\"row\">\n",
      "    <nav class=\"navbar navbar-expand-lg navbar-light fixed-top\">\n",
      "     <div class=\"container-fluid\">\n",
      "      <a class=\"navbar-brand\" href=\"#\">\n",
      "       <img src=\"image/nasa.png\" width=\"80\"/>\n",
      "       <span class=\"logo\">\n",
      "        MARS Planet Science\n",
      "       </span>\n",
      "       <span class=\"logo1\">\n",
      "        Exploration Program\n",
      "       </span>\n",
      "      </a>\n",
      "      <button aria-controls=\"navbarNav\" aria-expanded=\"false\" aria-label=\"Toggle navigation\" class=\"navbar-toggler\" data-bs-target=\"#navbarNav\" data-bs-toggle=\"collapse\" type=\"button\">\n",
      "       <span class=\"navbar-toggler-icon\">\n",
      "       </span>\n",
      "      </button>\n",
      "      <div class=\"collapse navbar-collapse justify-content-end\" id=\"navbarNav\">\n",
      "       <ul class=\"navbar-nav\">\n",
      "        <li class=\"nav-item\">\n",
      "         <a aria-current=\"page\" class=\"nav-link active\" href=\"#\">\n",
      "          The Red Planet\n",
      "         </a>\n",
      "        </li>\n",
      "        <li class=\"nav-item\">\n",
      "         <a class=\"nav-link\" href=\"#\">\n",
      "          The Program\n",
      "         </a>\n",
      "        </li>\n",
      "        <li class=\"nav-item\">\n",
      "         <a class=\"nav-link\" href=\"#\">\n",
      "          News &amp; Events\n",
      "         </a>\n",
      "        </li>\n",
      "        <li class=\"nav-item\">\n",
      "         <a class=\"nav-link\" href=\"#\">\n",
      "          Multimedia\n",
      "         </a>\n",
      "        </li>\n",
      "        <li class=\"nav-item\">\n",
      "         <a class=\"nav-link\" href=\"#\">\n",
      "          Missions\n",
      "         </a>\n",
      "        </li>\n",
      "        <li class=\"nav-item\">\n",
      "         <a class=\"nav-link\" href=\"#\">\n",
      "          More\n",
      "         </a>\n",
      "        </li>\n",
      "        <li class=\"nav-item nav_search\">\n",
      "         <a class=\"nav-link\" href=\"#\">\n",
      "         </a>\n",
      "        </li>\n",
      "       </ul>\n",
      "      </div>\n",
      "     </div>\n",
      "    </nav>\n",
      "    <section class=\"search\">\n",
      "     <div class=\"container\">\n",
      "      <h1>\n",
      "       News\n",
      "      </h1>\n",
      "      <div class=\"col-md-12 filter\">\n",
      "       <div class=\"row\">\n",
      "        <div class=\"col-md-3 search_binder\">\n",
      "         <input class=\"search_field\" name=\"search\" type=\"text\"/>\n",
      "         <input class=\"search_submit\" name=\"search\" type=\"text\"/>\n",
      "        </div>\n",
      "        <div class=\"col-md-3\">\n",
      "         <select aria-label=\"Default select example\" class=\"form-select\" id=\"year\">\n",
      "          <option selected=\"\">\n",
      "           Latest\n",
      "          </option>\n",
      "         </select>\n",
      "        </div>\n",
      "        <div class=\"col-md-3\">\n",
      "         <select aria-label=\"Default select example\" class=\"form-select\" id=\"cat\">\n",
      "          <option selected=\"\">\n",
      "           All Categories\n",
      "          </option>\n",
      "         </select>\n",
      "        </div>\n",
      "        <div class=\"col-md-3\">\n",
      "        </div>\n",
      "       </div>\n",
      "      </div>\n",
      "     </div>\n",
      "    </section>\n",
      "    <section class=\"image_and_description_container\">\n",
      "     <div class=\"container\" id=\"news\">\n",
      "     </div>\n",
      "     <hr class=\"container\" style=\"margin: 25px auto;width: 83%;\"/>\n",
      "     <button class=\"btn disable\" id=\"more\" onclick=\"populateContent()\">\n",
      "      More\n",
      "     </button>\n",
      "    </section>\n",
      "    <section class=\"last_news\">\n",
      "     <div class=\"container\">\n",
      "      <div class=\"row\">\n",
      "       <div class=\"col-12\">\n",
      "        <h2>\n",
      "         You Might Also Like\n",
      "        </h2>\n",
      "       </div>\n",
      "       <!--  <a class=\" prev\" href=\"#carouselExampleIndicators2\" role=\"button\" data-slide=\"prev\">\r\n",
      "                  <i class=\"fas fa-angle-left\"></i>\r\n",
      "                  </a>\r\n",
      "                  <a class=\" next\" href=\"#carouselExampleIndicators2\" role=\"button\" data-slide=\"next\">\r\n",
      "                  <i class=\"fas fa-angle-right\"></i>\r\n",
      "                  </a> -->\n",
      "       <div class=\"col-12\">\n",
      "        <div class=\"carousel slide\" data-ride=\"carousel\" id=\"carouselExampleIndicators2\">\n",
      "         <div class=\"carousel-inner\">\n",
      "          <div class=\"carousel-item active\">\n",
      "           <div class=\"row\">\n",
      "            <div class=\"col-md-4 mb-3\">\n",
      "             <div class=\"card\">\n",
      "              <img alt=\"100%x280\" class=\"img-fluid\" src=\"https://mars.nasa.gov/system/news_items/main_images/8716_PIA23499-16.jpg\"/>\n",
      "              <div class=\"card-body\">\n",
      "               <p class=\"card-text\">\n",
      "                NASA to Broadcast Mars 2020 Perseverance Launch, Prelaunch Activities\n",
      "               </p>\n",
      "              </div>\n",
      "             </div>\n",
      "            </div>\n",
      "            <div class=\"col-md-4 mb-3\">\n",
      "             <div class=\"card\">\n",
      "              <img alt=\"100%x280\" class=\"img-fluid\" src=\"https://mars.nasa.gov/system/news_items/main_images/8716_PIA23499-16.jpg\"/>\n",
      "              <div class=\"card-body\">\n",
      "               <p class=\"card-text\">\n",
      "                The Launch Is Approaching for NASA's Next Mars Rover, Perseverance\n",
      "               </p>\n",
      "              </div>\n",
      "             </div>\n",
      "            </div>\n",
      "            <div class=\"col-md-4 mb-3\">\n",
      "             <div class=\"card\">\n",
      "              <img alt=\"100%x280\" class=\"img-fluid\" src=\"https://mars.nasa.gov/system/news_items/main_images/8692_PIA23920-web.jpg\"/>\n",
      "              <div class=\"card-body\">\n",
      "               <p class=\"card-text\">\n",
      "                NASA to Hold Mars 2020 Perseverance Rover Launch Briefing\n",
      "               </p>\n",
      "              </div>\n",
      "             </div>\n",
      "            </div>\n",
      "           </div>\n",
      "          </div>\n",
      "          <div class=\"carousel-item\">\n",
      "           <div class=\"row\">\n",
      "            <div class=\"col-md-4 mb-3\">\n",
      "             <div class=\"card\">\n",
      "              <img alt=\"100%x280\" class=\"img-fluid\" src=\"https://images.unsplash.com/photo-1532771098148-525cefe10c23?ixlib=rb-0.3.5&amp;q=80&amp;fm=jpg&amp;crop=entropy&amp;cs=tinysrgb&amp;w=1080&amp;fit=max&amp;ixid=eyJhcHBfaWQiOjMyMDc0fQ&amp;s=3f317c1f7a16116dec454fbc267dd8e4\"/>\n",
      "              <div class=\"card-body\">\n",
      "               <p class=\"card-text\">\n",
      "                With supporting text below as a natural lead-in to additional content.\n",
      "               </p>\n",
      "              </div>\n",
      "             </div>\n",
      "            </div>\n",
      "            <div class=\"col-md-4 mb-3\">\n",
      "             <div class=\"card\">\n",
      "              <img alt=\"100%x280\" class=\"img-fluid\" src=\"https://images.unsplash.com/photo-1532715088550-62f09305f765?ixlib=rb-0.3.5&amp;q=80&amp;fm=jpg&amp;crop=entropy&amp;cs=tinysrgb&amp;w=1080&amp;fit=max&amp;ixid=eyJhcHBfaWQiOjMyMDc0fQ&amp;s=ebadb044b374504ef8e81bdec4d0e840\"/>\n",
      "              <div class=\"card-body\">\n",
      "               <p class=\"card-text\">\n",
      "                With supporting text below as a natural lead-in to additional content.\n",
      "               </p>\n",
      "              </div>\n",
      "             </div>\n",
      "            </div>\n",
      "            <div class=\"col-md-4 mb-3\">\n",
      "             <div class=\"card\">\n",
      "              <img alt=\"100%x280\" class=\"img-fluid\" src=\"https://images.unsplash.com/photo-1506197603052-3cc9c3a201bd?ixlib=rb-0.3.5&amp;q=80&amp;fm=jpg&amp;crop=entropy&amp;cs=tinysrgb&amp;w=1080&amp;fit=max&amp;ixid=eyJhcHBfaWQiOjMyMDc0fQ&amp;s=0754ab085804ae8a3b562548e6b4aa2e\"/>\n",
      "              <div class=\"card-body\">\n",
      "               <p class=\"card-text\">\n",
      "                With supporting text below as a natural lead-in to additional content.\n",
      "               </p>\n",
      "              </div>\n",
      "             </div>\n",
      "            </div>\n",
      "           </div>\n",
      "          </div>\n",
      "          <div class=\"carousel-item\">\n",
      "           <div class=\"row\">\n",
      "            <div class=\"col-md-4 mb-3\">\n",
      "             <div class=\"card\">\n",
      "              <img alt=\"100%x280\" class=\"img-fluid\" src=\"https://images.unsplash.com/photo-1507525428034-b723cf961d3e?ixlib=rb-0.3.5&amp;q=80&amp;fm=jpg&amp;crop=entropy&amp;cs=tinysrgb&amp;w=1080&amp;fit=max&amp;ixid=eyJhcHBfaWQiOjMyMDc0fQ&amp;s=ee8417f0ea2a50d53a12665820b54e23\"/>\n",
      "              <div class=\"card-body\">\n",
      "               <p class=\"card-text\">\n",
      "                With supporting text below as a natural lead-in to additional content.\n",
      "               </p>\n",
      "              </div>\n",
      "             </div>\n",
      "            </div>\n",
      "            <div class=\"col-md-4 mb-3\">\n",
      "             <div class=\"card\">\n",
      "              <img alt=\"100%x280\" class=\"img-fluid\" src=\"https://images.unsplash.com/photo-1532777946373-b6783242f211?ixlib=rb-0.3.5&amp;q=80&amp;fm=jpg&amp;crop=entropy&amp;cs=tinysrgb&amp;w=1080&amp;fit=max&amp;ixid=eyJhcHBfaWQiOjMyMDc0fQ&amp;s=8ac55cf3a68785643998730839663129\"/>\n",
      "              <div class=\"card-body\">\n",
      "               <p class=\"card-text\">\n",
      "                With supporting text below as a natural lead-in to additional content.\n",
      "               </p>\n",
      "              </div>\n",
      "             </div>\n",
      "            </div>\n",
      "            <div class=\"col-md-4 mb-3\">\n",
      "             <div class=\"card\">\n",
      "              <img alt=\"100%x280\" class=\"img-fluid\" src=\"https://images.unsplash.com/photo-1532763303805-529d595877c5?ixlib=rb-0.3.5&amp;q=80&amp;fm=jpg&amp;crop=entropy&amp;cs=tinysrgb&amp;w=1080&amp;fit=max&amp;ixid=eyJhcHBfaWQiOjMyMDc0fQ&amp;s=5ee4fd5d19b40f93eadb21871757eda6\"/>\n",
      "              <div class=\"card-body\">\n",
      "               <p class=\"card-text\">\n",
      "                With supporting text below as a natural lead-in to additional content.\n",
      "               </p>\n",
      "              </div>\n",
      "             </div>\n",
      "            </div>\n",
      "           </div>\n",
      "          </div>\n",
      "         </div>\n",
      "        </div>\n",
      "       </div>\n",
      "      </div>\n",
      "     </div>\n",
      "    </section>\n",
      "    <section class=\"footer\">\n",
      "     <div class=\"container\">\n",
      "      <div class=\"col-md-12\">\n",
      "       <div class=\"row\">\n",
      "        <div class=\"col-md-3\">\n",
      "         <h5>\n",
      "          The Red Planet\n",
      "         </h5>\n",
      "         <ul>\n",
      "          <li>\n",
      "           Dashboard\n",
      "          </li>\n",
      "          <li>\n",
      "           Science Goals\n",
      "          </li>\n",
      "          <li>\n",
      "           The Planet\n",
      "          </li>\n",
      "         </ul>\n",
      "        </div>\n",
      "        <div class=\"col-md-3\">\n",
      "         <h5>\n",
      "          The Program\n",
      "         </h5>\n",
      "         <ul>\n",
      "          <li>\n",
      "           Mission Statement\n",
      "          </li>\n",
      "          <li>\n",
      "           About the Program\n",
      "          </li>\n",
      "          <li>\n",
      "           Organization Why Mars?\n",
      "          </li>\n",
      "         </ul>\n",
      "        </div>\n",
      "        <div class=\"col-md-3\">\n",
      "         <h5>\n",
      "          Multimedia\n",
      "         </h5>\n",
      "         <ul>\n",
      "          <li>\n",
      "           Images\n",
      "          </li>\n",
      "          <li>\n",
      "           Videos\n",
      "          </li>\n",
      "          <li>\n",
      "           More Resources\n",
      "          </li>\n",
      "         </ul>\n",
      "        </div>\n",
      "        <div class=\"col-md-3\">\n",
      "         <h5>\n",
      "          Missions\n",
      "         </h5>\n",
      "         <ul>\n",
      "          <li>\n",
      "           Past\n",
      "          </li>\n",
      "          <li>\n",
      "           Present\n",
      "          </li>\n",
      "          <li>\n",
      "           Future\n",
      "          </li>\n",
      "         </ul>\n",
      "        </div>\n",
      "       </div>\n",
      "      </div>\n",
      "     </div>\n",
      "    </section>\n",
      "    <script src=\"https://code.jquery.com/jquery-1.12.4.min.js\" type=\"text/javascript\">\n",
      "    </script>\n",
      "    <script src=\"https://cdn.jsdelivr.net/npm/@popperjs/core@2.5.4/dist/umd/popper.min.js\">\n",
      "    </script>\n",
      "    <script src=\"https://cdn.jsdelivr.net/npm/bootstrap@5.0.0-beta1/dist/js/bootstrap.min.js\">\n",
      "    </script>\n",
      "    <script src=\"js/app.js\">\n",
      "    </script>\n",
      "   </div>\n",
      "  </div>\n",
      " </body>\n",
      "</html>\n"
     ]
    }
   ],
   "source": [
    "# Examine the results via prettyify, then determine element that contains News Title and Paragraph Text.\n",
    "print(soup.prettify())"
   ]
  },
  {
   "cell_type": "code",
   "execution_count": 7,
   "id": "e71169a6",
   "metadata": {},
   "outputs": [
    {
     "data": {
      "text/plain": [
       "[<p class=\"card-text\">NASA to Broadcast Mars 2020 Perseverance Launch, Prelaunch Activities</p>,\n",
       " <p class=\"card-text\">The Launch Is Approaching for NASA's Next Mars Rover, Perseverance</p>,\n",
       " <p class=\"card-text\">NASA to Hold Mars 2020 Perseverance Rover Launch Briefing</p>,\n",
       " <p class=\"card-text\">With supporting text below as a natural lead-in to additional content.</p>,\n",
       " <p class=\"card-text\">With supporting text below as a natural lead-in to additional content.</p>,\n",
       " <p class=\"card-text\">With supporting text below as a natural lead-in to additional content.</p>,\n",
       " <p class=\"card-text\">With supporting text below as a natural lead-in to additional content.</p>,\n",
       " <p class=\"card-text\">With supporting text below as a natural lead-in to additional content.</p>,\n",
       " <p class=\"card-text\">With supporting text below as a natural lead-in to additional content.</p>]"
      ]
     },
     "execution_count": 7,
     "metadata": {},
     "output_type": "execute_result"
    }
   ],
   "source": [
    "# Extract all paragraph elements\n",
    "soup.body.find_all('p')"
   ]
  },
  {
   "cell_type": "code",
   "execution_count": 8,
   "id": "3c39e562",
   "metadata": {},
   "outputs": [
    {
     "data": {
      "text/plain": [
       "'NASA to Broadcast Mars 2020 Perseverance Launch, Prelaunch Activities'"
      ]
     },
     "execution_count": 8,
     "metadata": {},
     "output_type": "execute_result"
    }
   ],
   "source": [
    "soup.body.p.text"
   ]
  },
  {
   "cell_type": "code",
   "execution_count": 9,
   "id": "dbc75541",
   "metadata": {},
   "outputs": [],
   "source": [
    "# Clean up the text and assign to a variable that can be called later\n",
    "news_p = soup.body.p.text.strip()"
   ]
  },
  {
   "cell_type": "code",
   "execution_count": 10,
   "id": "db4a7fc7",
   "metadata": {},
   "outputs": [
    {
     "data": {
      "text/plain": [
       "'NASA to Broadcast Mars 2020 Perseverance Launch, Prelaunch Activities'"
      ]
     },
     "execution_count": 10,
     "metadata": {},
     "output_type": "execute_result"
    }
   ],
   "source": [
    "news_p"
   ]
  },
  {
   "cell_type": "code",
   "execution_count": 11,
   "id": "e09c46cf",
   "metadata": {},
   "outputs": [
    {
     "name": "stdout",
     "output_type": "stream",
     "text": [
      "chromedriver not found\r\n"
     ]
    }
   ],
   "source": [
    "!which chromedriver"
   ]
  },
  {
   "cell_type": "code",
   "execution_count": 14,
   "id": "2b9569ee",
   "metadata": {},
   "outputs": [],
   "source": [
    "executable_path = {'executable_path': '/opt/homebrew/bin/chromedriver'}\n",
    "browser = Browser('chrome', **executable_path, headless=False)"
   ]
  },
  {
   "cell_type": "code",
   "execution_count": 19,
   "id": "a4358ae1",
   "metadata": {},
   "outputs": [],
   "source": [
    "url = 'https://spaceimages-mars.com'\n",
    "browser.visit(url)"
   ]
  },
  {
   "cell_type": "code",
   "execution_count": 20,
   "id": "171cfc5c",
   "metadata": {},
   "outputs": [],
   "source": [
    "html = browser.html\n",
    "soup = bs(html, 'html.parser')\n",
    "browser.click_link_by_partial_text('FULL IMAGE')\n",
    "sleep(30)\n"
   ]
  },
  {
   "cell_type": "code",
   "execution_count": 21,
   "id": "af12bb53",
   "metadata": {},
   "outputs": [],
   "source": [
    "html = browser.html\n",
    "soup = bs(html, 'html.parser')"
   ]
  },
  {
   "cell_type": "code",
   "execution_count": 22,
   "id": "1963b97d",
   "metadata": {},
   "outputs": [
    {
     "ename": "TypeError",
     "evalue": "'NoneType' object is not subscriptable",
     "output_type": "error",
     "traceback": [
      "\u001b[0;31m---------------------------------------------------------------------------\u001b[0m",
      "\u001b[0;31mTypeError\u001b[0m                                 Traceback (most recent call last)",
      "\u001b[0;32m/var/folders/c4/zd_gcgn532105p93s62s1cvh0000gn/T/ipykernel_10342/527054264.py\u001b[0m in \u001b[0;36m<module>\u001b[0;34m\u001b[0m\n\u001b[0;32m----> 1\u001b[0;31m \u001b[0mphoto_full\u001b[0m \u001b[0;34m=\u001b[0m \u001b[0msoup\u001b[0m\u001b[0;34m.\u001b[0m\u001b[0mfind\u001b[0m\u001b[0;34m(\u001b[0m\u001b[0;34m'img'\u001b[0m\u001b[0;34m,\u001b[0m \u001b[0mclass_\u001b[0m\u001b[0;34m=\u001b[0m\u001b[0;34m'main_image'\u001b[0m\u001b[0;34m)\u001b[0m\u001b[0;34m[\u001b[0m\u001b[0;34m'src'\u001b[0m\u001b[0;34m]\u001b[0m\u001b[0;34m\u001b[0m\u001b[0;34m\u001b[0m\u001b[0m\n\u001b[0m",
      "\u001b[0;31mTypeError\u001b[0m: 'NoneType' object is not subscriptable"
     ]
    }
   ],
   "source": [
    "photo_full = soup.find('img', class_='main_image')['src']"
   ]
  },
  {
   "cell_type": "code",
   "execution_count": null,
   "id": "0caeb2b2",
   "metadata": {},
   "outputs": [],
   "source": [
    "photo_full"
   ]
  },
  {
   "cell_type": "code",
   "execution_count": null,
   "id": "9101cdd5",
   "metadata": {},
   "outputs": [],
   "source": [
    "photo_full = \"https://www.jpl.nasa.gov\"+photo_full"
   ]
  },
  {
   "cell_type": "code",
   "execution_count": null,
   "id": "653caa1a",
   "metadata": {},
   "outputs": [],
   "source": [
    "url = 'https://twitter.com/marswxreport?lang=en'\n",
    "browser.visit(url)"
   ]
  },
  {
   "cell_type": "code",
   "execution_count": null,
   "id": "40a20221",
   "metadata": {},
   "outputs": [],
   "source": [
    "html = browser.html\n",
    "soup = BeautifulSoup(html, 'html.parser')"
   ]
  },
  {
   "cell_type": "code",
   "execution_count": null,
   "id": "81e7e289",
   "metadata": {},
   "outputs": [],
   "source": [
    "mars_weather_all = soup.find_all('p', class_='TweetTextSize TweetTextSize--normal js-tweet-text tweet-text')"
   ]
  },
  {
   "cell_type": "code",
   "execution_count": null,
   "id": "2c98d5a1",
   "metadata": {},
   "outputs": [],
   "source": [
    "mars_weather_all[8]"
   ]
  },
  {
   "cell_type": "code",
   "execution_count": null,
   "id": "9dcad388",
   "metadata": {},
   "outputs": [],
   "source": [
    "mars_weather = mars_weather_all[8].text.strip()"
   ]
  },
  {
   "cell_type": "code",
   "execution_count": null,
   "id": "7707cf5a",
   "metadata": {},
   "outputs": [],
   "source": [
    "mars_weather"
   ]
  },
  {
   "cell_type": "code",
   "execution_count": null,
   "id": "d2ef7684",
   "metadata": {},
   "outputs": [],
   "source": [
    "url = 'https://space-facts.com/mars/'\n",
    "\n",
    "tables = pd.read_html(url)\n",
    "tables"
   ]
  },
  {
   "cell_type": "code",
   "execution_count": null,
   "id": "83dd4787",
   "metadata": {},
   "outputs": [],
   "source": [
    "browser.quit()"
   ]
  },
  {
   "cell_type": "code",
   "execution_count": null,
   "id": "d8876e2f",
   "metadata": {},
   "outputs": [],
   "source": [
    "type(tables)"
   ]
  },
  {
   "cell_type": "code",
   "execution_count": null,
   "id": "b92319fe",
   "metadata": {},
   "outputs": [],
   "source": [
    "df = tables[0]\n",
    "df.head()"
   ]
  },
  {
   "cell_type": "code",
   "execution_count": null,
   "id": "62058eb6",
   "metadata": {},
   "outputs": [],
   "source": [
    "df = df.rename(columns={0: \"Description\", 1: \"Value\"})"
   ]
  },
  {
   "cell_type": "code",
   "execution_count": null,
   "id": "76d0655d",
   "metadata": {},
   "outputs": [],
   "source": [
    "df.head()"
   ]
  },
  {
   "cell_type": "code",
   "execution_count": null,
   "id": "1f3b89d2",
   "metadata": {},
   "outputs": [],
   "source": [
    "html_table = df.to_html()\n",
    "html_table"
   ]
  },
  {
   "cell_type": "code",
   "execution_count": null,
   "id": "41d11734",
   "metadata": {},
   "outputs": [],
   "source": [
    "# You can also save the table directly to a file.\n",
    "\n",
    "df.to_html('table.html')\n",
    "\n",
    "# OSX Users can run this to open the file in a browser, \n",
    "# or you can manually find the file and open it in the browser\n",
    "!open table.html"
   ]
  },
  {
   "cell_type": "code",
   "execution_count": null,
   "id": "cca28868",
   "metadata": {},
   "outputs": [],
   "source": [
    "executable_path = {'executable_path': '/usr/local/bin/chromedriver'}\n",
    "browser = Browser('chrome', **executable_path, headless=False)"
   ]
  },
  {
   "cell_type": "code",
   "execution_count": null,
   "id": "599568f6",
   "metadata": {},
   "outputs": [],
   "source": [
    "url = 'https://astrogeology.usgs.gov/search/results?q=hemisphere+enhanced&k1=target&v1=Mars'\n",
    "browser.visit(url)"
   ]
  },
  {
   "cell_type": "code",
   "execution_count": null,
   "id": "a5f412a1",
   "metadata": {},
   "outputs": [],
   "source": [
    "html = browser.html\n",
    "soup = BeautifulSoup(html, 'html.parser')"
   ]
  },
  {
   "cell_type": "code",
   "execution_count": null,
   "id": "0652962b",
   "metadata": {},
   "outputs": [],
   "source": [
    "browser.click_link_by_partial_text('Cerberus')\n",
    "html = browser.html\n",
    "soup = BeautifulSoup(html, 'html.parser')\n",
    "Cerberus_title = soup.title.text.strip()\n",
    "Cerberus_url = soup.find('a', target='_blank')['href']\n",
    "browser.back()\n",
    "\n",
    "browser.click_link_by_partial_text('Schiaparelli')\n",
    "html = browser.html\n",
    "soup = BeautifulSoup(html, 'html.parser')\n",
    "Schiaparelli_title = soup.title.text.strip()\n",
    "Schiaparelli_url = soup.find('a', target='_blank')['href']\n",
    "browser.back()\n",
    "\n",
    "browser.click_link_by_partial_text('Syrtis Major')\n",
    "html = browser.html\n",
    "soup = BeautifulSoup(html, 'html.parser')\n",
    "Syrtis_Major_title = soup.title.text.strip()\n",
    "Syrtis_Major_url = soup.find('a', target='_blank')['href']\n",
    "browser.back()\n",
    "\n",
    "browser.click_link_by_partial_text('Valles Marineris')\n",
    "html = browser.html\n",
    "soup = BeautifulSoup(html, 'html.parser')\n",
    "Valles_Marineris_title = soup.title.text.strip()\n",
    "Valles_Marineris_url = soup.find('a', target='_blank')['href']"
   ]
  },
  {
   "cell_type": "code",
   "execution_count": null,
   "id": "a54fa8c1",
   "metadata": {},
   "outputs": [],
   "source": [
    "browser.quit()"
   ]
  },
  {
   "cell_type": "code",
   "execution_count": null,
   "id": "4b337dad",
   "metadata": {},
   "outputs": [],
   "source": [
    "Cerberus_url"
   ]
  },
  {
   "cell_type": "code",
   "execution_count": null,
   "id": "31b88e73",
   "metadata": {},
   "outputs": [],
   "source": [
    "Cerberus_title"
   ]
  },
  {
   "cell_type": "code",
   "execution_count": null,
   "id": "31477ef0",
   "metadata": {},
   "outputs": [],
   "source": [
    "Schiaparelli_url"
   ]
  },
  {
   "cell_type": "code",
   "execution_count": null,
   "id": "10de43e3",
   "metadata": {},
   "outputs": [],
   "source": [
    "Schiaparelli_title"
   ]
  },
  {
   "cell_type": "code",
   "execution_count": null,
   "id": "acaf329b",
   "metadata": {},
   "outputs": [],
   "source": [
    "Syrtis_Major_url"
   ]
  },
  {
   "cell_type": "code",
   "execution_count": null,
   "id": "aedf7e76",
   "metadata": {},
   "outputs": [],
   "source": [
    "Syrtis_Major_title"
   ]
  },
  {
   "cell_type": "code",
   "execution_count": null,
   "id": "385d4d0f",
   "metadata": {},
   "outputs": [],
   "source": [
    "Valles_Marineris_url"
   ]
  },
  {
   "cell_type": "code",
   "execution_count": null,
   "id": "76392e82",
   "metadata": {},
   "outputs": [],
   "source": [
    "Valles_Marineris_title"
   ]
  },
  {
   "cell_type": "code",
   "execution_count": null,
   "id": "a7c75d51",
   "metadata": {},
   "outputs": [],
   "source": [
    "hemisphere_image_urls = [\n",
    "    {\"title\": f\"{Valles_Marineris_title}\", \"img_url\": f\"{Valles_Marineris_url}\"},\n",
    "    {\"title\": f\"{Cerberus_title}\", \"img_url\": f\"{Cerberus_url}\"},\n",
    "    {\"title\": f\"{Schiaparelli_title}\", \"img_url\": f\"{Schiaparelli_url}\"},\n",
    "    {\"title\": f\"{Syrtis_Major_title}\", \"img_url\": f\"{Syrtis_Major_url}\"},\n",
    "]"
   ]
  },
  {
   "cell_type": "code",
   "execution_count": null,
   "id": "eb840096",
   "metadata": {},
   "outputs": [],
   "source": [
    "hemisphere_image_urls"
   ]
  }
 ],
 "metadata": {
  "kernelspec": {
   "display_name": "Python 3 (ipykernel)",
   "language": "python",
   "name": "python3"
  },
  "language_info": {
   "codemirror_mode": {
    "name": "ipython",
    "version": 3
   },
   "file_extension": ".py",
   "mimetype": "text/x-python",
   "name": "python",
   "nbconvert_exporter": "python",
   "pygments_lexer": "ipython3",
   "version": "3.9.7"
  }
 },
 "nbformat": 4,
 "nbformat_minor": 5
}
